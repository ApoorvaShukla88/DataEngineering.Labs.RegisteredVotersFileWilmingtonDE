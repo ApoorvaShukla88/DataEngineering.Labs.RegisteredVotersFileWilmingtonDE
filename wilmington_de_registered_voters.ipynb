{
 "cells": [
  {
   "cell_type": "markdown",
   "metadata": {},
   "source": [
    "Import numpy and pandas."
   ]
  },
  {
   "cell_type": "code",
   "execution_count": 163,
   "metadata": {},
   "outputs": [],
   "source": [
    "import pandas as pd\n",
    "import numpy as np\n",
    "from subprocess import check_output\n",
    "import matplotlib\n",
    "import matplotlib.pyplot as plt"
   ]
  },
  {
   "cell_type": "markdown",
   "metadata": {},
   "source": [
    "Using the bash magic command, view the list of files inside of the data directory."
   ]
  },
  {
   "cell_type": "code",
   "execution_count": 164,
   "metadata": {},
   "outputs": [
    {
     "name": "stdout",
     "output_type": "stream",
     "text": [
      "total 17864\r\n",
      "-rw-r--r--  1 amishra  staff  8577108 Mar 23 16:20 ActiveFile-Wilm1thru8-20191015.csv\r\n",
      "-rw-r--r--  1 amishra  staff   543729 Mar 23 16:20 DE-VoterFile-Documentation 20171010.pdf\r\n",
      "-rw-r--r--  1 amishra  staff    16454 Mar 23 17:32 wilmington_de_registered_voters.ipynb\r\n"
     ]
    }
   ],
   "source": [
    "%ls -lrt data"
   ]
  },
  {
   "cell_type": "markdown",
   "metadata": {},
   "source": [
    "Load the csv file into a Pandas DataFrame."
   ]
  },
  {
   "cell_type": "code",
   "execution_count": 165,
   "metadata": {},
   "outputs": [],
   "source": [
    "df = pd.read_csv('./data/ActiveFile-Wilm1thru8-20191015.csv')"
   ]
  },
  {
   "cell_type": "markdown",
   "metadata": {},
   "source": [
    "Display a list of columns in the DataFrame."
   ]
  },
  {
   "cell_type": "code",
   "execution_count": 166,
   "metadata": {},
   "outputs": [
    {
     "name": "stdout",
     "output_type": "stream",
     "text": [
      "UNIQUE-ID\n",
      "LAST-NAME\n",
      "FIRST-NAME\n",
      "MID-INIT\n",
      "SUFFIX\n",
      "YEAR-OF-BIRTH\n",
      "HOME-NO\n",
      "HOME-APT\n",
      "HOME-STREET\n",
      "HOME-DEV\n",
      "HOME-CITY\n",
      "HOME-ZIPCODE\n",
      "COUNTY\n",
      "ED\n",
      "RD\n",
      "SD\n",
      "CNLEVY\n",
      "WILM\n",
      "CODE-HOME-CITY\n",
      "SCH-DIST\n",
      "PARTY\n",
      "DATE-REG\n",
      "PP-HIST-1\n",
      "PP-HIST-2\n",
      "PR-HIST-1\n",
      "PR-HIST-2\n",
      "PR-HIST-3\n",
      "GEN-HIST-1\n",
      "GEN-HIST-2\n",
      "GEN-HIST-3\n",
      "GEN-HIST-4\n",
      "GEN-HIST-5\n",
      "SP-HIST-1\n",
      "SP-HIST-2\n",
      "SP-HIST-3\n",
      "SCHL-HIST-1\n",
      "SCHL-HIST-2\n",
      "SCHL-HIST-3\n",
      "SCHL-HIST-4\n",
      "SCHL-HIST-5\n",
      "REF-HIST-1\n",
      "REF-HIST-2\n",
      "REF-HIST-3\n",
      "REF-HIST-4\n",
      "REF-HIST-5\n",
      "MAIL-NO\n",
      "MAIL-APT\n",
      "MAIL-STR\n",
      "MAIL-CITY\n",
      "MAIL-STATE\n",
      "MAIL-ZIP\n",
      "DATE-LAST-CHG\n",
      "CODE-CHANGE\n",
      "STATUS\n"
     ]
    }
   ],
   "source": [
    "for col in df.columns: \n",
    "    print(col)"
   ]
  },
  {
   "cell_type": "markdown",
   "metadata": {},
   "source": [
    "What is the shape of this DataFrame? How many columns does each row have? How many rows are there?"
   ]
  },
  {
   "cell_type": "code",
   "execution_count": 167,
   "metadata": {},
   "outputs": [
    {
     "data": {
      "text/plain": [
       "(51909, 54)"
      ]
     },
     "execution_count": 167,
     "metadata": {},
     "output_type": "execute_result"
    }
   ],
   "source": [
    "df.shape"
   ]
  },
  {
   "cell_type": "code",
   "execution_count": 168,
   "metadata": {},
   "outputs": [
    {
     "data": {
      "text/plain": [
       "UNIQUE-ID           int64\n",
       "LAST-NAME          object\n",
       "FIRST-NAME         object\n",
       "MID-INIT           object\n",
       "SUFFIX             object\n",
       "YEAR-OF-BIRTH       int64\n",
       "HOME-NO            object\n",
       "HOME-APT           object\n",
       "HOME-STREET        object\n",
       "HOME-DEV           object\n",
       "HOME-CITY          object\n",
       "HOME-ZIPCODE        int64\n",
       "COUNTY             object\n",
       "ED                  int64\n",
       "RD                  int64\n",
       "SD                  int64\n",
       "CNLEVY              int64\n",
       "WILM                int64\n",
       "CODE-HOME-CITY     object\n",
       "SCH-DIST           object\n",
       "PARTY              object\n",
       "DATE-REG            int64\n",
       "PP-HIST-1           int64\n",
       "PP-HIST-2           int64\n",
       "PR-HIST-1           int64\n",
       "PR-HIST-2           int64\n",
       "PR-HIST-3           int64\n",
       "GEN-HIST-1          int64\n",
       "GEN-HIST-2          int64\n",
       "GEN-HIST-3          int64\n",
       "GEN-HIST-4          int64\n",
       "GEN-HIST-5          int64\n",
       "SP-HIST-1          object\n",
       "SP-HIST-2         float64\n",
       "SP-HIST-3         float64\n",
       "SCHL-HIST-1        object\n",
       "SCHL-HIST-2        object\n",
       "SCHL-HIST-3        object\n",
       "SCHL-HIST-4       float64\n",
       "SCHL-HIST-5       float64\n",
       "REF-HIST-1         object\n",
       "REF-HIST-2         object\n",
       "REF-HIST-3         object\n",
       "REF-HIST-4        float64\n",
       "REF-HIST-5        float64\n",
       "MAIL-NO            object\n",
       "MAIL-APT           object\n",
       "MAIL-STR           object\n",
       "MAIL-CITY          object\n",
       "MAIL-STATE         object\n",
       "MAIL-ZIP          float64\n",
       "DATE-LAST-CHG       int64\n",
       "CODE-CHANGE        object\n",
       "STATUS             object\n",
       "dtype: object"
      ]
     },
     "execution_count": 168,
     "metadata": {},
     "output_type": "execute_result"
    }
   ],
   "source": [
    "df.dtypes"
   ]
  },
  {
   "cell_type": "code",
   "execution_count": 169,
   "metadata": {},
   "outputs": [
    {
     "data": {
      "text/html": [
       "<div>\n",
       "<style scoped>\n",
       "    .dataframe tbody tr th:only-of-type {\n",
       "        vertical-align: middle;\n",
       "    }\n",
       "\n",
       "    .dataframe tbody tr th {\n",
       "        vertical-align: top;\n",
       "    }\n",
       "\n",
       "    .dataframe thead th {\n",
       "        text-align: right;\n",
       "    }\n",
       "</style>\n",
       "<table border=\"1\" class=\"dataframe\">\n",
       "  <thead>\n",
       "    <tr style=\"text-align: right;\">\n",
       "      <th></th>\n",
       "      <th>LAST-NAME</th>\n",
       "      <th>FIRST-NAME</th>\n",
       "      <th>MID-INIT</th>\n",
       "      <th>SUFFIX</th>\n",
       "      <th>HOME-NO</th>\n",
       "      <th>HOME-APT</th>\n",
       "      <th>HOME-STREET</th>\n",
       "      <th>HOME-DEV</th>\n",
       "      <th>HOME-CITY</th>\n",
       "      <th>COUNTY</th>\n",
       "      <th>...</th>\n",
       "      <th>REF-HIST-1</th>\n",
       "      <th>REF-HIST-2</th>\n",
       "      <th>REF-HIST-3</th>\n",
       "      <th>MAIL-NO</th>\n",
       "      <th>MAIL-APT</th>\n",
       "      <th>MAIL-STR</th>\n",
       "      <th>MAIL-CITY</th>\n",
       "      <th>MAIL-STATE</th>\n",
       "      <th>CODE-CHANGE</th>\n",
       "      <th>STATUS</th>\n",
       "    </tr>\n",
       "  </thead>\n",
       "  <tbody>\n",
       "    <tr>\n",
       "      <td>0</td>\n",
       "      <td>ROY</td>\n",
       "      <td>BEVERLY</td>\n",
       "      <td>A</td>\n",
       "      <td>NaN</td>\n",
       "      <td>320</td>\n",
       "      <td>#912</td>\n",
       "      <td>E 5TH ST</td>\n",
       "      <td>HERLIHY HOUSE APTS</td>\n",
       "      <td>WILMINGTON</td>\n",
       "      <td>N</td>\n",
       "      <td>...</td>\n",
       "      <td>NaN</td>\n",
       "      <td>NaN</td>\n",
       "      <td>NaN</td>\n",
       "      <td>NaN</td>\n",
       "      <td>NaN</td>\n",
       "      <td>NaN</td>\n",
       "      <td>NaN</td>\n",
       "      <td>NaN</td>\n",
       "      <td>CR</td>\n",
       "      <td>A</td>\n",
       "    </tr>\n",
       "    <tr>\n",
       "      <td>1</td>\n",
       "      <td>WILLIAMS</td>\n",
       "      <td>LISA</td>\n",
       "      <td>F</td>\n",
       "      <td>NaN</td>\n",
       "      <td>826</td>\n",
       "      <td>NaN</td>\n",
       "      <td>W 5TH ST</td>\n",
       "      <td>NaN</td>\n",
       "      <td>WILMINGTON</td>\n",
       "      <td>N</td>\n",
       "      <td>...</td>\n",
       "      <td>NaN</td>\n",
       "      <td>NaN</td>\n",
       "      <td>NaN</td>\n",
       "      <td>NaN</td>\n",
       "      <td>NaN</td>\n",
       "      <td>NaN</td>\n",
       "      <td>NaN</td>\n",
       "      <td>NaN</td>\n",
       "      <td>CR</td>\n",
       "      <td>A</td>\n",
       "    </tr>\n",
       "    <tr>\n",
       "      <td>2</td>\n",
       "      <td>HARRIS</td>\n",
       "      <td>JOSEPH</td>\n",
       "      <td>A</td>\n",
       "      <td>III</td>\n",
       "      <td>2616</td>\n",
       "      <td>NaN</td>\n",
       "      <td>W 18TH ST</td>\n",
       "      <td>NaN</td>\n",
       "      <td>WILMINGTON</td>\n",
       "      <td>N</td>\n",
       "      <td>...</td>\n",
       "      <td>NaN</td>\n",
       "      <td>NaN</td>\n",
       "      <td>NaN</td>\n",
       "      <td>NaN</td>\n",
       "      <td>NaN</td>\n",
       "      <td>NaN</td>\n",
       "      <td>NaN</td>\n",
       "      <td>NaN</td>\n",
       "      <td>CR</td>\n",
       "      <td>A</td>\n",
       "    </tr>\n",
       "    <tr>\n",
       "      <td>3</td>\n",
       "      <td>LAMBORN</td>\n",
       "      <td>GERALD</td>\n",
       "      <td>V</td>\n",
       "      <td>NaN</td>\n",
       "      <td>706</td>\n",
       "      <td>NaN</td>\n",
       "      <td>W 34TH ST</td>\n",
       "      <td>NaN</td>\n",
       "      <td>WILMINGTON</td>\n",
       "      <td>N</td>\n",
       "      <td>...</td>\n",
       "      <td>NaN</td>\n",
       "      <td>NaN</td>\n",
       "      <td>NaN</td>\n",
       "      <td>NaN</td>\n",
       "      <td>NaN</td>\n",
       "      <td>NaN</td>\n",
       "      <td>NaN</td>\n",
       "      <td>NaN</td>\n",
       "      <td>CR</td>\n",
       "      <td>A</td>\n",
       "    </tr>\n",
       "    <tr>\n",
       "      <td>4</td>\n",
       "      <td>KRYSTOPOLSKI</td>\n",
       "      <td>ANDREW</td>\n",
       "      <td>R</td>\n",
       "      <td>NaN</td>\n",
       "      <td>1009</td>\n",
       "      <td>NaN</td>\n",
       "      <td>ANCHORAGE ST</td>\n",
       "      <td>NaN</td>\n",
       "      <td>WILMINGTON</td>\n",
       "      <td>N</td>\n",
       "      <td>...</td>\n",
       "      <td>NaN</td>\n",
       "      <td>NaN</td>\n",
       "      <td>NaN</td>\n",
       "      <td>NaN</td>\n",
       "      <td>NaN</td>\n",
       "      <td>NaN</td>\n",
       "      <td>NaN</td>\n",
       "      <td>NaN</td>\n",
       "      <td>CR</td>\n",
       "      <td>A</td>\n",
       "    </tr>\n",
       "    <tr>\n",
       "      <td>...</td>\n",
       "      <td>...</td>\n",
       "      <td>...</td>\n",
       "      <td>...</td>\n",
       "      <td>...</td>\n",
       "      <td>...</td>\n",
       "      <td>...</td>\n",
       "      <td>...</td>\n",
       "      <td>...</td>\n",
       "      <td>...</td>\n",
       "      <td>...</td>\n",
       "      <td>...</td>\n",
       "      <td>...</td>\n",
       "      <td>...</td>\n",
       "      <td>...</td>\n",
       "      <td>...</td>\n",
       "      <td>...</td>\n",
       "      <td>...</td>\n",
       "      <td>...</td>\n",
       "      <td>...</td>\n",
       "      <td>...</td>\n",
       "      <td>...</td>\n",
       "    </tr>\n",
       "    <tr>\n",
       "      <td>51904</td>\n",
       "      <td>BROOMER</td>\n",
       "      <td>CHERLOTTE</td>\n",
       "      <td>D</td>\n",
       "      <td>NaN</td>\n",
       "      <td>1340</td>\n",
       "      <td>NaN</td>\n",
       "      <td>LANCASTER AVE</td>\n",
       "      <td>NaN</td>\n",
       "      <td>WILMINGTON</td>\n",
       "      <td>N</td>\n",
       "      <td>...</td>\n",
       "      <td>NaN</td>\n",
       "      <td>NaN</td>\n",
       "      <td>NaN</td>\n",
       "      <td>NaN</td>\n",
       "      <td>NaN</td>\n",
       "      <td>NaN</td>\n",
       "      <td>NaN</td>\n",
       "      <td>NaN</td>\n",
       "      <td>CR</td>\n",
       "      <td>A</td>\n",
       "    </tr>\n",
       "    <tr>\n",
       "      <td>51905</td>\n",
       "      <td>HANEY</td>\n",
       "      <td>JANICE</td>\n",
       "      <td>M</td>\n",
       "      <td>NaN</td>\n",
       "      <td>21</td>\n",
       "      <td>NaN</td>\n",
       "      <td>IVY RD</td>\n",
       "      <td>NaN</td>\n",
       "      <td>WILMINGTON</td>\n",
       "      <td>N</td>\n",
       "      <td>...</td>\n",
       "      <td>NaN</td>\n",
       "      <td>NaN</td>\n",
       "      <td>NaN</td>\n",
       "      <td>NaN</td>\n",
       "      <td>NaN</td>\n",
       "      <td>NaN</td>\n",
       "      <td>NaN</td>\n",
       "      <td>NaN</td>\n",
       "      <td>U</td>\n",
       "      <td>A</td>\n",
       "    </tr>\n",
       "    <tr>\n",
       "      <td>51906</td>\n",
       "      <td>MARTIN</td>\n",
       "      <td>ELMARIA</td>\n",
       "      <td>D</td>\n",
       "      <td>NaN</td>\n",
       "      <td>2910</td>\n",
       "      <td>NaN</td>\n",
       "      <td>N WEST ST</td>\n",
       "      <td>NaN</td>\n",
       "      <td>WILMINGTON</td>\n",
       "      <td>N</td>\n",
       "      <td>...</td>\n",
       "      <td>NaN</td>\n",
       "      <td>NaN</td>\n",
       "      <td>NaN</td>\n",
       "      <td>NaN</td>\n",
       "      <td>NaN</td>\n",
       "      <td>NaN</td>\n",
       "      <td>NaN</td>\n",
       "      <td>NaN</td>\n",
       "      <td>U</td>\n",
       "      <td>A</td>\n",
       "    </tr>\n",
       "    <tr>\n",
       "      <td>51907</td>\n",
       "      <td>ROSE</td>\n",
       "      <td>KENISHA</td>\n",
       "      <td>A</td>\n",
       "      <td>NaN</td>\n",
       "      <td>1300</td>\n",
       "      <td>#A401</td>\n",
       "      <td>N HARRISON ST</td>\n",
       "      <td>MAYFAIR APTS</td>\n",
       "      <td>WILMINGTON</td>\n",
       "      <td>N</td>\n",
       "      <td>...</td>\n",
       "      <td>NaN</td>\n",
       "      <td>NaN</td>\n",
       "      <td>NaN</td>\n",
       "      <td>NaN</td>\n",
       "      <td>NaN</td>\n",
       "      <td>NaN</td>\n",
       "      <td>NaN</td>\n",
       "      <td>NaN</td>\n",
       "      <td>CR</td>\n",
       "      <td>A</td>\n",
       "    </tr>\n",
       "    <tr>\n",
       "      <td>51908</td>\n",
       "      <td>ALLEN</td>\n",
       "      <td>SARAH</td>\n",
       "      <td>E</td>\n",
       "      <td>NaN</td>\n",
       "      <td>1618</td>\n",
       "      <td>FL #2</td>\n",
       "      <td>N BROOM ST</td>\n",
       "      <td>NaN</td>\n",
       "      <td>WILMINGTON</td>\n",
       "      <td>N</td>\n",
       "      <td>...</td>\n",
       "      <td>NaN</td>\n",
       "      <td>NaN</td>\n",
       "      <td>NaN</td>\n",
       "      <td>NaN</td>\n",
       "      <td>NaN</td>\n",
       "      <td>NaN</td>\n",
       "      <td>NaN</td>\n",
       "      <td>NaN</td>\n",
       "      <td>CR</td>\n",
       "      <td>A</td>\n",
       "    </tr>\n",
       "  </tbody>\n",
       "</table>\n",
       "<p>51909 rows × 27 columns</p>\n",
       "</div>"
      ],
      "text/plain": [
       "          LAST-NAME FIRST-NAME MID-INIT SUFFIX HOME-NO HOME-APT  \\\n",
       "0               ROY    BEVERLY        A    NaN     320     #912   \n",
       "1          WILLIAMS       LISA        F    NaN     826      NaN   \n",
       "2            HARRIS     JOSEPH        A    III    2616      NaN   \n",
       "3           LAMBORN     GERALD        V    NaN     706      NaN   \n",
       "4      KRYSTOPOLSKI     ANDREW        R    NaN    1009      NaN   \n",
       "...             ...        ...      ...    ...     ...      ...   \n",
       "51904       BROOMER  CHERLOTTE        D    NaN    1340      NaN   \n",
       "51905         HANEY     JANICE        M    NaN      21      NaN   \n",
       "51906        MARTIN    ELMARIA        D    NaN    2910      NaN   \n",
       "51907          ROSE    KENISHA        A    NaN    1300    #A401   \n",
       "51908         ALLEN      SARAH        E    NaN    1618    FL #2   \n",
       "\n",
       "         HOME-STREET            HOME-DEV   HOME-CITY COUNTY  ... REF-HIST-1  \\\n",
       "0           E 5TH ST  HERLIHY HOUSE APTS  WILMINGTON      N  ...        NaN   \n",
       "1           W 5TH ST                 NaN  WILMINGTON      N  ...        NaN   \n",
       "2          W 18TH ST                 NaN  WILMINGTON      N  ...        NaN   \n",
       "3          W 34TH ST                 NaN  WILMINGTON      N  ...        NaN   \n",
       "4       ANCHORAGE ST                 NaN  WILMINGTON      N  ...        NaN   \n",
       "...              ...                 ...         ...    ...  ...        ...   \n",
       "51904  LANCASTER AVE                 NaN  WILMINGTON      N  ...        NaN   \n",
       "51905         IVY RD                 NaN  WILMINGTON      N  ...        NaN   \n",
       "51906      N WEST ST                 NaN  WILMINGTON      N  ...        NaN   \n",
       "51907  N HARRISON ST        MAYFAIR APTS  WILMINGTON      N  ...        NaN   \n",
       "51908     N BROOM ST                 NaN  WILMINGTON      N  ...        NaN   \n",
       "\n",
       "      REF-HIST-2 REF-HIST-3 MAIL-NO MAIL-APT MAIL-STR MAIL-CITY MAIL-STATE  \\\n",
       "0            NaN        NaN     NaN      NaN      NaN       NaN        NaN   \n",
       "1            NaN        NaN     NaN      NaN      NaN       NaN        NaN   \n",
       "2            NaN        NaN     NaN      NaN      NaN       NaN        NaN   \n",
       "3            NaN        NaN     NaN      NaN      NaN       NaN        NaN   \n",
       "4            NaN        NaN     NaN      NaN      NaN       NaN        NaN   \n",
       "...          ...        ...     ...      ...      ...       ...        ...   \n",
       "51904        NaN        NaN     NaN      NaN      NaN       NaN        NaN   \n",
       "51905        NaN        NaN     NaN      NaN      NaN       NaN        NaN   \n",
       "51906        NaN        NaN     NaN      NaN      NaN       NaN        NaN   \n",
       "51907        NaN        NaN     NaN      NaN      NaN       NaN        NaN   \n",
       "51908        NaN        NaN     NaN      NaN      NaN       NaN        NaN   \n",
       "\n",
       "      CODE-CHANGE STATUS  \n",
       "0              CR      A  \n",
       "1              CR      A  \n",
       "2              CR      A  \n",
       "3              CR      A  \n",
       "4              CR      A  \n",
       "...           ...    ...  \n",
       "51904          CR      A  \n",
       "51905           U      A  \n",
       "51906           U      A  \n",
       "51907          CR      A  \n",
       "51908          CR      A  \n",
       "\n",
       "[51909 rows x 27 columns]"
      ]
     },
     "execution_count": 169,
     "metadata": {},
     "output_type": "execute_result"
    }
   ],
   "source": [
    "s = df.select_dtypes(include='object')\n",
    "s"
   ]
  },
  {
   "cell_type": "markdown",
   "metadata": {},
   "source": [
    "# HOME ZIP CODE"
   ]
  },
  {
   "cell_type": "markdown",
   "metadata": {},
   "source": [
    "Group objects using the HOME-ZIPCODE column. Assign the value to a variable called grouped_zc.  \n",
    "[Pandas Groupby User Guide](https://pandas.pydata.org/pandas-docs/stable/user_guide/groupby.html)"
   ]
  },
  {
   "cell_type": "code",
   "execution_count": 170,
   "metadata": {},
   "outputs": [
    {
     "data": {
      "text/plain": [
       "<pandas.core.groupby.generic.DataFrameGroupBy object at 0x125ad4f50>"
      ]
     },
     "execution_count": 170,
     "metadata": {},
     "output_type": "execute_result"
    }
   ],
   "source": [
    "grouped_zc = df.groupby('HOME-ZIPCODE')\n",
    "grouped_zc"
   ]
  },
  {
   "cell_type": "markdown",
   "metadata": {},
   "source": [
    "What type of object is grouped_zc?"
   ]
  },
  {
   "cell_type": "code",
   "execution_count": 171,
   "metadata": {},
   "outputs": [
    {
     "name": "stdout",
     "output_type": "stream",
     "text": [
      "<class 'pandas.core.groupby.generic.DataFrameGroupBy'>\n"
     ]
    }
   ],
   "source": [
    "print(type(grouped_zc))"
   ]
  },
  {
   "cell_type": "markdown",
   "metadata": {},
   "source": [
    "DataFrameGroupBy objects contain a groups attribute. Display the value of the groups attribute belonging to the grouped_zc object."
   ]
  },
  {
   "cell_type": "code",
   "execution_count": 172,
   "metadata": {},
   "outputs": [
    {
     "data": {
      "text/plain": [
       "{19801: Int64Index([    0,     1,    10,    12,    13,    15,    16,    20,    24,\n",
       "                34,\n",
       "             ...\n",
       "             51865, 51874, 51877, 51881, 51885, 51890, 51891, 51892, 51897,\n",
       "             51900],\n",
       "            dtype='int64', length=10730),\n",
       " 19802: Int64Index([    3,     5,    11,    21,    29,    30,    31,    38,    39,\n",
       "                40,\n",
       "             ...\n",
       "             51866, 51867, 51872, 51882, 51883, 51887, 51893, 51901, 51902,\n",
       "             51906],\n",
       "            dtype='int64', length=17182),\n",
       " 19805: Int64Index([    4,     6,     7,     8,    14,    17,    18,    19,    22,\n",
       "                23,\n",
       "             ...\n",
       "             51862, 51864, 51869, 51873, 51880, 51886, 51888, 51889, 51898,\n",
       "             51904],\n",
       "            dtype='int64', length=15548),\n",
       " 19806: Int64Index([    2,     9,    28,    48,    83,    96,   106,   114,   150,\n",
       "               169,\n",
       "             ...\n",
       "             51879, 51884, 51894, 51895, 51896, 51899, 51903, 51905, 51907,\n",
       "             51908],\n",
       "            dtype='int64', length=8326),\n",
       " 19807: Int64Index([  576,  3900,  3901,  3902,  3977,  4595,  5504,  5542,  7186,\n",
       "              7780,\n",
       "             ...\n",
       "             47000, 47121, 47234, 47291, 47550, 48003, 48016, 49329, 49379,\n",
       "             51310],\n",
       "            dtype='int64', length=123)}"
      ]
     },
     "execution_count": 172,
     "metadata": {},
     "output_type": "execute_result"
    }
   ],
   "source": [
    "# \n",
    "grouped_zc.groups"
   ]
  },
  {
   "cell_type": "markdown",
   "metadata": {},
   "source": [
    "Invoke the size method on the grouped_zc object to find out how many items are associated with each zip code."
   ]
  },
  {
   "cell_type": "code",
   "execution_count": 173,
   "metadata": {},
   "outputs": [
    {
     "data": {
      "text/plain": [
       "HOME-ZIPCODE\n",
       "19801    10730\n",
       "19802    17182\n",
       "19805    15548\n",
       "19806     8326\n",
       "19807      123\n",
       "dtype: int64"
      ]
     },
     "execution_count": 173,
     "metadata": {},
     "output_type": "execute_result"
    }
   ],
   "source": [
    "grouped_zc.size()"
   ]
  },
  {
   "cell_type": "markdown",
   "metadata": {},
   "source": [
    "Use a magic command so that matplotlib graphics will display inline."
   ]
  },
  {
   "cell_type": "code",
   "execution_count": 174,
   "metadata": {},
   "outputs": [
    {
     "data": {
      "image/png": "[encoded data removed]",
      "text/plain": [
       "<Figure size 432x288 with 1 Axes>"
      ]
     },
     "metadata": {
      "needs_background": "light"
     },
     "output_type": "display_data"
    }
   ],
   "source": [
    "%matplotlib inline\n",
    "ax = plt.axes()\n",
    "ax.plot(x, np.sin(x))\n",
    "ax.set(xlim=(0, 11000), ylim=(19801, 19807),\n",
    "       xlabel='No.of Units', ylabel='Zipcode',\n",
    "       title='HomeZipCode');"
   ]
  },
  {
   "cell_type": "markdown",
   "metadata": {},
   "source": [
    "Create a pie chart illustrating the number of voters per zip code."
   ]
  },
  {
   "cell_type": "code",
   "execution_count": 175,
   "metadata": {},
   "outputs": [
    {
     "data": {
      "text/html": [
       "<div>\n",
       "<style scoped>\n",
       "    .dataframe tbody tr th:only-of-type {\n",
       "        vertical-align: middle;\n",
       "    }\n",
       "\n",
       "    .dataframe tbody tr th {\n",
       "        vertical-align: top;\n",
       "    }\n",
       "\n",
       "    .dataframe thead th {\n",
       "        text-align: right;\n",
       "    }\n",
       "</style>\n",
       "<table border=\"1\" class=\"dataframe\">\n",
       "  <thead>\n",
       "    <tr style=\"text-align: right;\">\n",
       "      <th></th>\n",
       "      <th>UNIQUE-ID</th>\n",
       "      <th>LAST-NAME</th>\n",
       "      <th>FIRST-NAME</th>\n",
       "      <th>MID-INIT</th>\n",
       "      <th>SUFFIX</th>\n",
       "      <th>YEAR-OF-BIRTH</th>\n",
       "      <th>HOME-NO</th>\n",
       "      <th>HOME-APT</th>\n",
       "      <th>HOME-STREET</th>\n",
       "      <th>HOME-DEV</th>\n",
       "      <th>...</th>\n",
       "      <th>REF-HIST-5</th>\n",
       "      <th>MAIL-NO</th>\n",
       "      <th>MAIL-APT</th>\n",
       "      <th>MAIL-STR</th>\n",
       "      <th>MAIL-CITY</th>\n",
       "      <th>MAIL-STATE</th>\n",
       "      <th>MAIL-ZIP</th>\n",
       "      <th>DATE-LAST-CHG</th>\n",
       "      <th>CODE-CHANGE</th>\n",
       "      <th>STATUS</th>\n",
       "    </tr>\n",
       "    <tr>\n",
       "      <th>HOME-ZIPCODE</th>\n",
       "      <th></th>\n",
       "      <th></th>\n",
       "      <th></th>\n",
       "      <th></th>\n",
       "      <th></th>\n",
       "      <th></th>\n",
       "      <th></th>\n",
       "      <th></th>\n",
       "      <th></th>\n",
       "      <th></th>\n",
       "      <th></th>\n",
       "      <th></th>\n",
       "      <th></th>\n",
       "      <th></th>\n",
       "      <th></th>\n",
       "      <th></th>\n",
       "      <th></th>\n",
       "      <th></th>\n",
       "      <th></th>\n",
       "      <th></th>\n",
       "      <th></th>\n",
       "    </tr>\n",
       "  </thead>\n",
       "  <tbody>\n",
       "    <tr>\n",
       "      <td>19801</td>\n",
       "      <td>10730</td>\n",
       "      <td>10730</td>\n",
       "      <td>10730</td>\n",
       "      <td>9324</td>\n",
       "      <td>605</td>\n",
       "      <td>10730</td>\n",
       "      <td>10730</td>\n",
       "      <td>4477</td>\n",
       "      <td>10730</td>\n",
       "      <td>2648</td>\n",
       "      <td>...</td>\n",
       "      <td>0</td>\n",
       "      <td>88</td>\n",
       "      <td>3</td>\n",
       "      <td>72</td>\n",
       "      <td>138</td>\n",
       "      <td>138</td>\n",
       "      <td>139</td>\n",
       "      <td>10730</td>\n",
       "      <td>10730</td>\n",
       "      <td>10730</td>\n",
       "    </tr>\n",
       "    <tr>\n",
       "      <td>19802</td>\n",
       "      <td>17182</td>\n",
       "      <td>17182</td>\n",
       "      <td>17182</td>\n",
       "      <td>15240</td>\n",
       "      <td>1037</td>\n",
       "      <td>17182</td>\n",
       "      <td>17182</td>\n",
       "      <td>2567</td>\n",
       "      <td>17182</td>\n",
       "      <td>1982</td>\n",
       "      <td>...</td>\n",
       "      <td>0</td>\n",
       "      <td>83</td>\n",
       "      <td>6</td>\n",
       "      <td>74</td>\n",
       "      <td>123</td>\n",
       "      <td>123</td>\n",
       "      <td>123</td>\n",
       "      <td>17182</td>\n",
       "      <td>17182</td>\n",
       "      <td>17182</td>\n",
       "    </tr>\n",
       "    <tr>\n",
       "      <td>19805</td>\n",
       "      <td>15548</td>\n",
       "      <td>15548</td>\n",
       "      <td>15548</td>\n",
       "      <td>13059</td>\n",
       "      <td>858</td>\n",
       "      <td>15548</td>\n",
       "      <td>15548</td>\n",
       "      <td>1983</td>\n",
       "      <td>15548</td>\n",
       "      <td>2080</td>\n",
       "      <td>...</td>\n",
       "      <td>0</td>\n",
       "      <td>79</td>\n",
       "      <td>5</td>\n",
       "      <td>80</td>\n",
       "      <td>136</td>\n",
       "      <td>136</td>\n",
       "      <td>136</td>\n",
       "      <td>15548</td>\n",
       "      <td>15548</td>\n",
       "      <td>15548</td>\n",
       "    </tr>\n",
       "    <tr>\n",
       "      <td>19806</td>\n",
       "      <td>8326</td>\n",
       "      <td>8326</td>\n",
       "      <td>8326</td>\n",
       "      <td>7571</td>\n",
       "      <td>431</td>\n",
       "      <td>8326</td>\n",
       "      <td>8326</td>\n",
       "      <td>3533</td>\n",
       "      <td>8326</td>\n",
       "      <td>1990</td>\n",
       "      <td>...</td>\n",
       "      <td>0</td>\n",
       "      <td>53</td>\n",
       "      <td>4</td>\n",
       "      <td>40</td>\n",
       "      <td>82</td>\n",
       "      <td>82</td>\n",
       "      <td>82</td>\n",
       "      <td>8326</td>\n",
       "      <td>8326</td>\n",
       "      <td>8326</td>\n",
       "    </tr>\n",
       "    <tr>\n",
       "      <td>19807</td>\n",
       "      <td>123</td>\n",
       "      <td>123</td>\n",
       "      <td>123</td>\n",
       "      <td>115</td>\n",
       "      <td>5</td>\n",
       "      <td>123</td>\n",
       "      <td>123</td>\n",
       "      <td>0</td>\n",
       "      <td>123</td>\n",
       "      <td>94</td>\n",
       "      <td>...</td>\n",
       "      <td>0</td>\n",
       "      <td>0</td>\n",
       "      <td>0</td>\n",
       "      <td>0</td>\n",
       "      <td>0</td>\n",
       "      <td>0</td>\n",
       "      <td>0</td>\n",
       "      <td>123</td>\n",
       "      <td>123</td>\n",
       "      <td>123</td>\n",
       "    </tr>\n",
       "  </tbody>\n",
       "</table>\n",
       "<p>5 rows × 53 columns</p>\n",
       "</div>"
      ],
      "text/plain": [
       "              UNIQUE-ID  LAST-NAME  FIRST-NAME  MID-INIT  SUFFIX  \\\n",
       "HOME-ZIPCODE                                                       \n",
       "19801             10730      10730       10730      9324     605   \n",
       "19802             17182      17182       17182     15240    1037   \n",
       "19805             15548      15548       15548     13059     858   \n",
       "19806              8326       8326        8326      7571     431   \n",
       "19807               123        123         123       115       5   \n",
       "\n",
       "              YEAR-OF-BIRTH  HOME-NO  HOME-APT  HOME-STREET  HOME-DEV  ...  \\\n",
       "HOME-ZIPCODE                                                           ...   \n",
       "19801                 10730    10730      4477        10730      2648  ...   \n",
       "19802                 17182    17182      2567        17182      1982  ...   \n",
       "19805                 15548    15548      1983        15548      2080  ...   \n",
       "19806                  8326     8326      3533         8326      1990  ...   \n",
       "19807                   123      123         0          123        94  ...   \n",
       "\n",
       "              REF-HIST-5  MAIL-NO  MAIL-APT  MAIL-STR  MAIL-CITY  MAIL-STATE  \\\n",
       "HOME-ZIPCODE                                                                   \n",
       "19801                  0       88         3        72        138         138   \n",
       "19802                  0       83         6        74        123         123   \n",
       "19805                  0       79         5        80        136         136   \n",
       "19806                  0       53         4        40         82          82   \n",
       "19807                  0        0         0         0          0           0   \n",
       "\n",
       "              MAIL-ZIP  DATE-LAST-CHG  CODE-CHANGE  STATUS  \n",
       "HOME-ZIPCODE                                                \n",
       "19801              139          10730        10730   10730  \n",
       "19802              123          17182        17182   17182  \n",
       "19805              136          15548        15548   15548  \n",
       "19806               82           8326         8326    8326  \n",
       "19807                0            123          123     123  \n",
       "\n",
       "[5 rows x 53 columns]"
      ]
     },
     "execution_count": 175,
     "metadata": {},
     "output_type": "execute_result"
    }
   ],
   "source": [
    "No_Of_voters = grouped_zc.count()\n",
    "No_Of_voters"
   ]
  },
  {
   "cell_type": "code",
   "execution_count": 176,
   "metadata": {},
   "outputs": [
    {
     "data": {
      "text/plain": [
       "([<matplotlib.patches.Wedge at 0x1263121d0>,\n",
       "  <matplotlib.patches.Wedge at 0x126312510>,\n",
       "  <matplotlib.patches.Wedge at 0x126312590>,\n",
       "  <matplotlib.patches.Wedge at 0x12631a090>,\n",
       "  <matplotlib.patches.Wedge at 0x12631a8d0>],\n",
       " [Text(0.8760967626973386, 0.6651725057391077, '19801'),\n",
       "  Text(-0.764058752148303, 0.7913369846440758, '19802'),\n",
       "  Text(-0.42112865275664896, -1.0161942028113375, '19805'),\n",
       "  Text(0.9552631610472119, -0.5454102063090577, '19806'),\n",
       "  Text(1.099969521734947, -0.008188483021424421, '19807')])"
      ]
     },
     "execution_count": 176,
     "metadata": {},
     "output_type": "execute_result"
    },
    {
     "data": {
      "image/png": "[encoded data removed]",
      "text/plain": [
       "<Figure size 432x288 with 1 Axes>"
      ]
     },
     "metadata": {},
     "output_type": "display_data"
    }
   ],
   "source": [
    "labels = \"19801\", \"19802\", \"19805\", \"19806\", \"19807\"\n",
    "matplotlib.pyplot.pie(grouped_zc.size(), labels = labels)"
   ]
  },
  {
   "cell_type": "markdown",
   "metadata": {},
   "source": [
    "# YEAR OF BIRTH"
   ]
  },
  {
   "cell_type": "markdown",
   "metadata": {},
   "source": [
    "Group objects by the YEAR-OF-BIRTH column. Assign the value to an object called \"grouped_yob\"."
   ]
  },
  {
   "cell_type": "code",
   "execution_count": 177,
   "metadata": {},
   "outputs": [
    {
     "data": {
      "text/plain": [
       "<pandas.core.groupby.generic.DataFrameGroupBy object at 0x126324090>"
      ]
     },
     "execution_count": 177,
     "metadata": {},
     "output_type": "execute_result"
    }
   ],
   "source": [
    "grouped_yob = df.groupby('YEAR-OF-BIRTH')\n",
    "grouped_yob"
   ]
  },
  {
   "cell_type": "markdown",
   "metadata": {},
   "source": [
    "Display the value of the groups attribute belonging the grouped_yob object."
   ]
  },
  {
   "cell_type": "code",
   "execution_count": 178,
   "metadata": {},
   "outputs": [
    {
     "data": {
      "text/plain": [
       "YEAR-OF-BIRTH\n",
       "1900      1\n",
       "1912      1\n",
       "1915      2\n",
       "1916      3\n",
       "1917      2\n",
       "       ... \n",
       "1998    786\n",
       "1999    719\n",
       "2000    717\n",
       "2001    575\n",
       "2002    395\n",
       "Length: 90, dtype: int64"
      ]
     },
     "execution_count": 178,
     "metadata": {},
     "output_type": "execute_result"
    }
   ],
   "source": [
    "grouped_yob.size()"
   ]
  },
  {
   "cell_type": "markdown",
   "metadata": {},
   "source": [
    "Select the object for the row indicating that the voter was born in 1900."
   ]
  },
  {
   "cell_type": "code",
   "execution_count": 179,
   "metadata": {},
   "outputs": [
    {
     "data": {
      "text/html": [
       "<div>\n",
       "<style scoped>\n",
       "    .dataframe tbody tr th:only-of-type {\n",
       "        vertical-align: middle;\n",
       "    }\n",
       "\n",
       "    .dataframe tbody tr th {\n",
       "        vertical-align: top;\n",
       "    }\n",
       "\n",
       "    .dataframe thead th {\n",
       "        text-align: right;\n",
       "    }\n",
       "</style>\n",
       "<table border=\"1\" class=\"dataframe\">\n",
       "  <thead>\n",
       "    <tr style=\"text-align: right;\">\n",
       "      <th></th>\n",
       "      <th>UNIQUE-ID</th>\n",
       "      <th>LAST-NAME</th>\n",
       "      <th>FIRST-NAME</th>\n",
       "      <th>MID-INIT</th>\n",
       "      <th>SUFFIX</th>\n",
       "      <th>YEAR-OF-BIRTH</th>\n",
       "      <th>HOME-NO</th>\n",
       "      <th>HOME-APT</th>\n",
       "      <th>HOME-STREET</th>\n",
       "      <th>HOME-DEV</th>\n",
       "      <th>...</th>\n",
       "      <th>REF-HIST-5</th>\n",
       "      <th>MAIL-NO</th>\n",
       "      <th>MAIL-APT</th>\n",
       "      <th>MAIL-STR</th>\n",
       "      <th>MAIL-CITY</th>\n",
       "      <th>MAIL-STATE</th>\n",
       "      <th>MAIL-ZIP</th>\n",
       "      <th>DATE-LAST-CHG</th>\n",
       "      <th>CODE-CHANGE</th>\n",
       "      <th>STATUS</th>\n",
       "    </tr>\n",
       "  </thead>\n",
       "  <tbody>\n",
       "    <tr>\n",
       "      <td>49249</td>\n",
       "      <td>101092654</td>\n",
       "      <td>KENNEDY</td>\n",
       "      <td>JORDAN</td>\n",
       "      <td>D</td>\n",
       "      <td>NaN</td>\n",
       "      <td>1900</td>\n",
       "      <td>724</td>\n",
       "      <td>NaN</td>\n",
       "      <td>N BANCROFT PKY</td>\n",
       "      <td>NaN</td>\n",
       "      <td>...</td>\n",
       "      <td>NaN</td>\n",
       "      <td>NaN</td>\n",
       "      <td>NaN</td>\n",
       "      <td>NaN</td>\n",
       "      <td>NaN</td>\n",
       "      <td>NaN</td>\n",
       "      <td>NaN</td>\n",
       "      <td>20170731</td>\n",
       "      <td>P6</td>\n",
       "      <td>I</td>\n",
       "    </tr>\n",
       "  </tbody>\n",
       "</table>\n",
       "<p>1 rows × 54 columns</p>\n",
       "</div>"
      ],
      "text/plain": [
       "       UNIQUE-ID LAST-NAME FIRST-NAME MID-INIT SUFFIX  YEAR-OF-BIRTH HOME-NO  \\\n",
       "49249  101092654   KENNEDY     JORDAN        D    NaN           1900     724   \n",
       "\n",
       "      HOME-APT     HOME-STREET HOME-DEV  ... REF-HIST-5  MAIL-NO MAIL-APT  \\\n",
       "49249      NaN  N BANCROFT PKY      NaN  ...        NaN      NaN      NaN   \n",
       "\n",
       "       MAIL-STR  MAIL-CITY  MAIL-STATE  MAIL-ZIP  DATE-LAST-CHG CODE-CHANGE  \\\n",
       "49249       NaN        NaN         NaN       NaN       20170731          P6   \n",
       "\n",
       "      STATUS  \n",
       "49249      I  \n",
       "\n",
       "[1 rows x 54 columns]"
      ]
     },
     "execution_count": 179,
     "metadata": {},
     "output_type": "execute_result"
    }
   ],
   "source": [
    "df.loc[lambda df: df[\"YEAR-OF-BIRTH\"] < 1901, :]"
   ]
  },
  {
   "cell_type": "markdown",
   "metadata": {},
   "source": [
    "Graph a histogram to  illustrate the age distribution of voters in this dataset. Ty using different values for the bins attribute of the histogram. "
   ]
  },
  {
   "cell_type": "code",
   "execution_count": 180,
   "metadata": {},
   "outputs": [
    {
     "data": {
      "text/plain": [
       "<matplotlib.axes._subplots.AxesSubplot at 0x126332fd0>"
      ]
     },
     "execution_count": 180,
     "metadata": {},
     "output_type": "execute_result"
    },
    {
     "data": {
      "image/png": "[encoded data removed]",
      "text/plain": [
       "<Figure size 432x288 with 1 Axes>"
      ]
     },
     "metadata": {
      "needs_background": "light"
     },
     "output_type": "display_data"
    }
   ],
   "source": [
    "df[\"YEAR-OF-BIRTH\"].plot.hist(bins=103)"
   ]
  },
  {
   "cell_type": "markdown",
   "metadata": {},
   "source": [
    "# PARTY"
   ]
  },
  {
   "cell_type": "markdown",
   "metadata": {},
   "source": [
    "Group objects using the PARTY column. Assign the value to a variable called grouped_p."
   ]
  },
  {
   "cell_type": "code",
   "execution_count": 181,
   "metadata": {},
   "outputs": [],
   "source": [
    "grouped_p = df.groupby('PARTY').groups\n"
   ]
  },
  {
   "cell_type": "markdown",
   "metadata": {},
   "source": [
    "Display the value of the groups attribute belonging to the grouped_p object."
   ]
  },
  {
   "cell_type": "code",
   "execution_count": 182,
   "metadata": {},
   "outputs": [
    {
     "data": {
      "text/plain": [
       "{'A': Int64Index([ 2578,  2639,  3108,  5105, 10230, 10491, 10842, 11620, 12162,\n",
       "             12413, 12417, 12454, 12507, 12522, 12810, 12831, 14469, 14507,\n",
       "             15144, 15382, 15509, 16858, 17075, 17173, 17309, 19466, 19884,\n",
       "             20846, 21086, 21459, 22451, 22645, 22746, 23739, 24604, 24664,\n",
       "             24665, 24691, 26662, 28775, 30455, 30510, 30976, 34065, 34903,\n",
       "             36518, 44984, 45851, 46837, 49699, 51736, 51830],\n",
       "            dtype='int64'),\n",
       " 'B': Int64Index([11866, 11867, 11869, 11870, 11873, 11875, 11876, 11880, 11882,\n",
       "             11883,\n",
       "             ...\n",
       "             50153, 50167, 50172, 50176, 50211, 50246, 50339, 50340, 50343,\n",
       "             50469],\n",
       "            dtype='int64', length=441),\n",
       " 'D': Int64Index([    1,     3,     4,     5,     6,    10,    11,    12,    16,\n",
       "                17,\n",
       "             ...\n",
       "             51896, 51897, 51898, 51899, 51901, 51902, 51904, 51905, 51906,\n",
       "             51907],\n",
       "            dtype='int64', length=38020),\n",
       " 'E': Int64Index([  346,  4768,  4980,  5216,  7651,  8165,  9912, 10745, 11241,\n",
       "             18359, 19693, 19871, 20848, 23562, 25301, 25880, 28786, 32452,\n",
       "             32612, 33925, 36659, 36936, 38262, 40198, 46582, 47321, 49618,\n",
       "             50330, 51613, 51828],\n",
       "            dtype='int64'),\n",
       " 'G': Int64Index([ 4868,  7001,  9420, 12620, 16999, 17956, 20719, 22322, 22435,\n",
       "             22692, 25423, 26657, 28772, 31156, 31402, 32840, 34850, 34874,\n",
       "             34924, 37189, 37259, 38140, 40614, 40870, 40894, 41264, 42067,\n",
       "             42203, 42367, 42627, 42721, 42724, 44717, 45014, 45254, 45564,\n",
       "             46574, 47761, 47816, 49280, 49782, 50723],\n",
       "            dtype='int64'),\n",
       " 'H': Int64Index([   51,  1218,  1332,  3885,  4825,  5175,  6112,  6970,  8491,\n",
       "              9899, 10138, 10651, 11316, 11781, 11822, 11850, 11894, 11897,\n",
       "             11907, 11993, 12036, 12086, 12113, 12569, 13189, 13715, 14162,\n",
       "             14372, 15190, 15297, 15441, 16208, 16268, 16310, 17932, 18349,\n",
       "             18562, 18822, 19450, 20370, 21234, 21518, 22168, 22317, 22399,\n",
       "             22519, 22631, 23177, 23697, 25410, 25648, 27054, 27913, 29533,\n",
       "             29624, 29691, 33573, 33694, 33752, 36705, 37587, 38442, 38605,\n",
       "             38783, 39129, 39130, 39408, 40202, 42170, 43346, 48875, 49171,\n",
       "             49424, 49629, 49837, 49867, 49900, 49967, 50866, 51040, 51196,\n",
       "             51312],\n",
       "            dtype='int64'),\n",
       " 'I': Int64Index([    0,     7,     9,    14,    15,    26,    28,    30,    31,\n",
       "                37,\n",
       "             ...\n",
       "             51875, 51877, 51885, 51886, 51888, 51889, 51894, 51900, 51903,\n",
       "             51908],\n",
       "            dtype='int64', length=7670),\n",
       " 'J': Int64Index([  197,   988,  1057,  1111,  1177,  1203,  1321,  1422,  1457,\n",
       "              1493,\n",
       "             ...\n",
       "             49392, 49438, 49589, 49842, 50038, 50133, 50347, 50468, 50528,\n",
       "             51030],\n",
       "            dtype='int64', length=161),\n",
       " 'L': Int64Index([ 1157,  1232,  2320,  2654,  4048,  4088,  4475,  4587,  5258,\n",
       "              6701,  7197,  7277,  7331,  9063,  9266,  9452,  9785, 10870,\n",
       "             11035, 11091, 11709, 12016, 12019, 12076, 12603, 13161, 13166,\n",
       "             15164, 16994, 17186, 17415, 17969, 18401, 18499, 19539, 19596,\n",
       "             19722, 20340, 20748, 20783, 21441, 22534, 23051, 23458, 23741,\n",
       "             24172, 26616, 28185, 28907, 28908, 29029, 31081, 31122, 31451,\n",
       "             33122, 33326, 33571, 34868, 35953, 36616, 37354, 38083, 38485,\n",
       "             38538, 39651, 39703, 39757, 39983, 41323, 41435, 42556, 42997,\n",
       "             43620, 43739, 43993, 44877, 44963, 45010, 45460, 45477, 45499,\n",
       "             45866, 45964, 46251, 46779, 47745, 47817, 47892, 48816, 49272,\n",
       "             49595, 49736, 49792, 49807, 50178, 51570, 51601, 51829],\n",
       "            dtype='int64'),\n",
       " 'M': Int64Index([19128], dtype='int64'),\n",
       " 'O': Int64Index([   60,   321,  1086,  1631,  1743,  3426,  3863,  6030,  7798,\n",
       "              9304, 11959, 12143, 12901, 13046, 13344, 16985, 19607, 22474,\n",
       "             25901, 26947, 31469, 32243, 33930, 34644, 35459, 35919, 38177,\n",
       "             39573, 41553, 48281, 49440, 49946, 50693],\n",
       "            dtype='int64'),\n",
       " 'Q': Int64Index([ 1754,  2100,  2186,  2268,  6903,  7723,  8701,  9631,  9722,\n",
       "             12860, 13249, 14833, 22175, 22248, 22382, 45539, 51790],\n",
       "            dtype='int64'),\n",
       " 'R': Int64Index([    2,     8,    13,    18,    25,    34,    36,    38,    45,\n",
       "                80,\n",
       "             ...\n",
       "             51803, 51817, 51837, 51839, 51842, 51847, 51874, 51876, 51879,\n",
       "             51884],\n",
       "            dtype='int64', length=4851),\n",
       " 'T': Int64Index([ 3200, 16195, 18075, 18799, 22522, 22532, 29766, 40839, 43506,\n",
       "             44165, 46817, 47328, 48734, 50254],\n",
       "            dtype='int64'),\n",
       " 'V': Int64Index([630, 924, 4198, 4565, 10571, 11786, 15825, 35313, 39086, 39138,\n",
       "             48731],\n",
       "            dtype='int64'),\n",
       " 'W': Int64Index([  970,  1109,  1291,  1601,  1891,  1992,  2565,  2577,  3003,\n",
       "              3081,\n",
       "             ...\n",
       "             50745, 51361, 51446, 51527, 51630, 51660, 51758, 51816, 51827,\n",
       "             51849],\n",
       "            dtype='int64', length=333),\n",
       " 'Y': Int64Index([ 4214,  4523,  7697, 15109, 17347, 17730, 20621, 22247, 36423,\n",
       "             36558, 37972, 39522, 41694, 42009],\n",
       "            dtype='int64'),\n",
       " 'Z': Int64Index([ 2543,  3173,  3808,  3859,  4396,  4427,  5196,  6212,  6771,\n",
       "              7214,  9171,  9587, 10835, 11789, 14983, 16487, 17079, 17305,\n",
       "             18066, 20592, 20703, 21712, 22172, 22190, 22192, 22193, 22194,\n",
       "             27240, 28166, 28219, 32778, 32790, 34659, 34940, 35094, 46002,\n",
       "             48316, 49053, 49817],\n",
       "            dtype='int64')}"
      ]
     },
     "execution_count": 182,
     "metadata": {},
     "output_type": "execute_result"
    }
   ],
   "source": [
    "grouped_p"
   ]
  },
  {
   "cell_type": "markdown",
   "metadata": {},
   "source": [
    "Invoke the size method on the grouped_p object to find out how many items are associated with each party."
   ]
  },
  {
   "cell_type": "code",
   "execution_count": 183,
   "metadata": {
    "scrolled": true
   },
   "outputs": [
    {
     "ename": "AttributeError",
     "evalue": "'dict' object has no attribute 'size'",
     "output_type": "error",
     "traceback": [
      "\u001b[0;31m---------------------------------------------------------------------------\u001b[0m",
      "\u001b[0;31mAttributeError\u001b[0m                            Traceback (most recent call last)",
      "\u001b[0;32m<ipython-input-183-c3acc1d36fdc>\u001b[0m in \u001b[0;36m<module>\u001b[0;34m\u001b[0m\n\u001b[0;32m----> 1\u001b[0;31m \u001b[0mgrouped_p1\u001b[0m\u001b[0;34m=\u001b[0m\u001b[0mgrouped_p\u001b[0m\u001b[0;34m.\u001b[0m\u001b[0msize\u001b[0m\u001b[0;34m(\u001b[0m\u001b[0;34m)\u001b[0m\u001b[0;34m\u001b[0m\u001b[0;34m\u001b[0m\u001b[0m\n\u001b[0m\u001b[1;32m      2\u001b[0m \u001b[0mgrouped_p1\u001b[0m\u001b[0;34m\u001b[0m\u001b[0;34m\u001b[0m\u001b[0m\n",
      "\u001b[0;31mAttributeError\u001b[0m: 'dict' object has no attribute 'size'"
     ]
    }
   ],
   "source": [
    "grouped_p1=grouped_p.size()\n",
    "grouped_p1"
   ]
  },
  {
   "cell_type": "markdown",
   "metadata": {},
   "source": [
    "Create a bar chart to visualize the number of voters associated with each party."
   ]
  },
  {
   "cell_type": "code",
   "execution_count": 189,
   "metadata": {},
   "outputs": [
    {
     "ename": "NameError",
     "evalue": "name 'grouped_p1' is not defined",
     "output_type": "error",
     "traceback": [
      "\u001b[0;31m---------------------------------------------------------------------------\u001b[0m",
      "\u001b[0;31mNameError\u001b[0m                                 Traceback (most recent call last)",
      "\u001b[0;32m<ipython-input-189-e6a16f7d764b>\u001b[0m in \u001b[0;36m<module>\u001b[0;34m\u001b[0m\n\u001b[0;32m----> 1\u001b[0;31m \u001b[0mgrouped_p1\u001b[0m\u001b[0;34m.\u001b[0m\u001b[0mplot\u001b[0m\u001b[0;34m.\u001b[0m\u001b[0mbar\u001b[0m\u001b[0;34m(\u001b[0m\u001b[0;34m)\u001b[0m\u001b[0;34m\u001b[0m\u001b[0;34m\u001b[0m\u001b[0m\n\u001b[0m",
      "\u001b[0;31mNameError\u001b[0m: name 'grouped_p1' is not defined"
     ]
    }
   ],
   "source": [
    "grouped_p1.plot.bar()"
   ]
  },
  {
   "cell_type": "markdown",
   "metadata": {},
   "source": [
    "# Merging Two DataFrames"
   ]
  },
  {
   "cell_type": "markdown",
   "metadata": {},
   "source": [
    "Using the data from the documentation, create a Pandas DataFrame that contains the party code and the corresponding legal name for each party."
   ]
  },
  {
   "cell_type": "code",
   "execution_count": null,
   "metadata": {},
   "outputs": [],
   "source": [
    "legal_names = {}"
   ]
  },
  {
   "cell_type": "code",
   "execution_count": 188,
   "metadata": {},
   "outputs": [
    {
     "ename": "FileNotFoundError",
     "evalue": "[Errno 2] File b'PartyAffiliation.csv' does not exist: b'PartyAffiliation.csv'",
     "output_type": "error",
     "traceback": [
      "\u001b[0;31m---------------------------------------------------------------------------\u001b[0m",
      "\u001b[0;31mFileNotFoundError\u001b[0m                         Traceback (most recent call last)",
      "\u001b[0;32m<ipython-input-188-e7549146efa9>\u001b[0m in \u001b[0;36m<module>\u001b[0;34m\u001b[0m\n\u001b[0;32m----> 1\u001b[0;31m \u001b[0mdf_legal_names\u001b[0m \u001b[0;34m=\u001b[0m \u001b[0mpd\u001b[0m\u001b[0;34m.\u001b[0m\u001b[0mread_csv\u001b[0m\u001b[0;34m(\u001b[0m\u001b[0;34m'PartyAffiliation.csv'\u001b[0m\u001b[0;34m)\u001b[0m\u001b[0;34m\u001b[0m\u001b[0;34m\u001b[0m\u001b[0m\n\u001b[0m",
      "\u001b[0;32m~/opt/anaconda3/lib/python3.7/site-packages/pandas/io/parsers.py\u001b[0m in \u001b[0;36mparser_f\u001b[0;34m(filepath_or_buffer, sep, delimiter, header, names, index_col, usecols, squeeze, prefix, mangle_dupe_cols, dtype, engine, converters, true_values, false_values, skipinitialspace, skiprows, skipfooter, nrows, na_values, keep_default_na, na_filter, verbose, skip_blank_lines, parse_dates, infer_datetime_format, keep_date_col, date_parser, dayfirst, cache_dates, iterator, chunksize, compression, thousands, decimal, lineterminator, quotechar, quoting, doublequote, escapechar, comment, encoding, dialect, error_bad_lines, warn_bad_lines, delim_whitespace, low_memory, memory_map, float_precision)\u001b[0m\n\u001b[1;32m    683\u001b[0m         )\n\u001b[1;32m    684\u001b[0m \u001b[0;34m\u001b[0m\u001b[0m\n\u001b[0;32m--> 685\u001b[0;31m         \u001b[0;32mreturn\u001b[0m \u001b[0m_read\u001b[0m\u001b[0;34m(\u001b[0m\u001b[0mfilepath_or_buffer\u001b[0m\u001b[0;34m,\u001b[0m \u001b[0mkwds\u001b[0m\u001b[0;34m)\u001b[0m\u001b[0;34m\u001b[0m\u001b[0;34m\u001b[0m\u001b[0m\n\u001b[0m\u001b[1;32m    686\u001b[0m \u001b[0;34m\u001b[0m\u001b[0m\n\u001b[1;32m    687\u001b[0m     \u001b[0mparser_f\u001b[0m\u001b[0;34m.\u001b[0m\u001b[0m__name__\u001b[0m \u001b[0;34m=\u001b[0m \u001b[0mname\u001b[0m\u001b[0;34m\u001b[0m\u001b[0;34m\u001b[0m\u001b[0m\n",
      "\u001b[0;32m~/opt/anaconda3/lib/python3.7/site-packages/pandas/io/parsers.py\u001b[0m in \u001b[0;36m_read\u001b[0;34m(filepath_or_buffer, kwds)\u001b[0m\n\u001b[1;32m    455\u001b[0m \u001b[0;34m\u001b[0m\u001b[0m\n\u001b[1;32m    456\u001b[0m     \u001b[0;31m# Create the parser.\u001b[0m\u001b[0;34m\u001b[0m\u001b[0;34m\u001b[0m\u001b[0;34m\u001b[0m\u001b[0m\n\u001b[0;32m--> 457\u001b[0;31m     \u001b[0mparser\u001b[0m \u001b[0;34m=\u001b[0m \u001b[0mTextFileReader\u001b[0m\u001b[0;34m(\u001b[0m\u001b[0mfp_or_buf\u001b[0m\u001b[0;34m,\u001b[0m \u001b[0;34m**\u001b[0m\u001b[0mkwds\u001b[0m\u001b[0;34m)\u001b[0m\u001b[0;34m\u001b[0m\u001b[0;34m\u001b[0m\u001b[0m\n\u001b[0m\u001b[1;32m    458\u001b[0m \u001b[0;34m\u001b[0m\u001b[0m\n\u001b[1;32m    459\u001b[0m     \u001b[0;32mif\u001b[0m \u001b[0mchunksize\u001b[0m \u001b[0;32mor\u001b[0m \u001b[0miterator\u001b[0m\u001b[0;34m:\u001b[0m\u001b[0;34m\u001b[0m\u001b[0;34m\u001b[0m\u001b[0m\n",
      "\u001b[0;32m~/opt/anaconda3/lib/python3.7/site-packages/pandas/io/parsers.py\u001b[0m in \u001b[0;36m__init__\u001b[0;34m(self, f, engine, **kwds)\u001b[0m\n\u001b[1;32m    893\u001b[0m             \u001b[0mself\u001b[0m\u001b[0;34m.\u001b[0m\u001b[0moptions\u001b[0m\u001b[0;34m[\u001b[0m\u001b[0;34m\"has_index_names\"\u001b[0m\u001b[0;34m]\u001b[0m \u001b[0;34m=\u001b[0m \u001b[0mkwds\u001b[0m\u001b[0;34m[\u001b[0m\u001b[0;34m\"has_index_names\"\u001b[0m\u001b[0;34m]\u001b[0m\u001b[0;34m\u001b[0m\u001b[0;34m\u001b[0m\u001b[0m\n\u001b[1;32m    894\u001b[0m \u001b[0;34m\u001b[0m\u001b[0m\n\u001b[0;32m--> 895\u001b[0;31m         \u001b[0mself\u001b[0m\u001b[0;34m.\u001b[0m\u001b[0m_make_engine\u001b[0m\u001b[0;34m(\u001b[0m\u001b[0mself\u001b[0m\u001b[0;34m.\u001b[0m\u001b[0mengine\u001b[0m\u001b[0;34m)\u001b[0m\u001b[0;34m\u001b[0m\u001b[0;34m\u001b[0m\u001b[0m\n\u001b[0m\u001b[1;32m    896\u001b[0m \u001b[0;34m\u001b[0m\u001b[0m\n\u001b[1;32m    897\u001b[0m     \u001b[0;32mdef\u001b[0m \u001b[0mclose\u001b[0m\u001b[0;34m(\u001b[0m\u001b[0mself\u001b[0m\u001b[0;34m)\u001b[0m\u001b[0;34m:\u001b[0m\u001b[0;34m\u001b[0m\u001b[0;34m\u001b[0m\u001b[0m\n",
      "\u001b[0;32m~/opt/anaconda3/lib/python3.7/site-packages/pandas/io/parsers.py\u001b[0m in \u001b[0;36m_make_engine\u001b[0;34m(self, engine)\u001b[0m\n\u001b[1;32m   1133\u001b[0m     \u001b[0;32mdef\u001b[0m \u001b[0m_make_engine\u001b[0m\u001b[0;34m(\u001b[0m\u001b[0mself\u001b[0m\u001b[0;34m,\u001b[0m \u001b[0mengine\u001b[0m\u001b[0;34m=\u001b[0m\u001b[0;34m\"c\"\u001b[0m\u001b[0;34m)\u001b[0m\u001b[0;34m:\u001b[0m\u001b[0;34m\u001b[0m\u001b[0;34m\u001b[0m\u001b[0m\n\u001b[1;32m   1134\u001b[0m         \u001b[0;32mif\u001b[0m \u001b[0mengine\u001b[0m \u001b[0;34m==\u001b[0m \u001b[0;34m\"c\"\u001b[0m\u001b[0;34m:\u001b[0m\u001b[0;34m\u001b[0m\u001b[0;34m\u001b[0m\u001b[0m\n\u001b[0;32m-> 1135\u001b[0;31m             \u001b[0mself\u001b[0m\u001b[0;34m.\u001b[0m\u001b[0m_engine\u001b[0m \u001b[0;34m=\u001b[0m \u001b[0mCParserWrapper\u001b[0m\u001b[0;34m(\u001b[0m\u001b[0mself\u001b[0m\u001b[0;34m.\u001b[0m\u001b[0mf\u001b[0m\u001b[0;34m,\u001b[0m \u001b[0;34m**\u001b[0m\u001b[0mself\u001b[0m\u001b[0;34m.\u001b[0m\u001b[0moptions\u001b[0m\u001b[0;34m)\u001b[0m\u001b[0;34m\u001b[0m\u001b[0;34m\u001b[0m\u001b[0m\n\u001b[0m\u001b[1;32m   1136\u001b[0m         \u001b[0;32melse\u001b[0m\u001b[0;34m:\u001b[0m\u001b[0;34m\u001b[0m\u001b[0;34m\u001b[0m\u001b[0m\n\u001b[1;32m   1137\u001b[0m             \u001b[0;32mif\u001b[0m \u001b[0mengine\u001b[0m \u001b[0;34m==\u001b[0m \u001b[0;34m\"python\"\u001b[0m\u001b[0;34m:\u001b[0m\u001b[0;34m\u001b[0m\u001b[0;34m\u001b[0m\u001b[0m\n",
      "\u001b[0;32m~/opt/anaconda3/lib/python3.7/site-packages/pandas/io/parsers.py\u001b[0m in \u001b[0;36m__init__\u001b[0;34m(self, src, **kwds)\u001b[0m\n\u001b[1;32m   1915\u001b[0m         \u001b[0mkwds\u001b[0m\u001b[0;34m[\u001b[0m\u001b[0;34m\"usecols\"\u001b[0m\u001b[0;34m]\u001b[0m \u001b[0;34m=\u001b[0m \u001b[0mself\u001b[0m\u001b[0;34m.\u001b[0m\u001b[0musecols\u001b[0m\u001b[0;34m\u001b[0m\u001b[0;34m\u001b[0m\u001b[0m\n\u001b[1;32m   1916\u001b[0m \u001b[0;34m\u001b[0m\u001b[0m\n\u001b[0;32m-> 1917\u001b[0;31m         \u001b[0mself\u001b[0m\u001b[0;34m.\u001b[0m\u001b[0m_reader\u001b[0m \u001b[0;34m=\u001b[0m \u001b[0mparsers\u001b[0m\u001b[0;34m.\u001b[0m\u001b[0mTextReader\u001b[0m\u001b[0;34m(\u001b[0m\u001b[0msrc\u001b[0m\u001b[0;34m,\u001b[0m \u001b[0;34m**\u001b[0m\u001b[0mkwds\u001b[0m\u001b[0;34m)\u001b[0m\u001b[0;34m\u001b[0m\u001b[0;34m\u001b[0m\u001b[0m\n\u001b[0m\u001b[1;32m   1918\u001b[0m         \u001b[0mself\u001b[0m\u001b[0;34m.\u001b[0m\u001b[0munnamed_cols\u001b[0m \u001b[0;34m=\u001b[0m \u001b[0mself\u001b[0m\u001b[0;34m.\u001b[0m\u001b[0m_reader\u001b[0m\u001b[0;34m.\u001b[0m\u001b[0munnamed_cols\u001b[0m\u001b[0;34m\u001b[0m\u001b[0;34m\u001b[0m\u001b[0m\n\u001b[1;32m   1919\u001b[0m \u001b[0;34m\u001b[0m\u001b[0m\n",
      "\u001b[0;32mpandas/_libs/parsers.pyx\u001b[0m in \u001b[0;36mpandas._libs.parsers.TextReader.__cinit__\u001b[0;34m()\u001b[0m\n",
      "\u001b[0;32mpandas/_libs/parsers.pyx\u001b[0m in \u001b[0;36mpandas._libs.parsers.TextReader._setup_parser_source\u001b[0;34m()\u001b[0m\n",
      "\u001b[0;31mFileNotFoundError\u001b[0m: [Errno 2] File b'PartyAffiliation.csv' does not exist: b'PartyAffiliation.csv'"
     ]
    }
   ],
   "source": []
  },
  {
   "cell_type": "code",
   "execution_count": null,
   "metadata": {},
   "outputs": [],
   "source": []
  },
  {
   "cell_type": "code",
   "execution_count": 186,
   "metadata": {},
   "outputs": [
    {
     "ename": "AttributeError",
     "evalue": "'Series' object has no attribute 'legal_names'",
     "output_type": "error",
     "traceback": [
      "\u001b[0;31m---------------------------------------------------------------------------\u001b[0m",
      "\u001b[0;31mAttributeError\u001b[0m                            Traceback (most recent call last)",
      "\u001b[0;32m<ipython-input-186-972845a90141>\u001b[0m in \u001b[0;36m<module>\u001b[0;34m\u001b[0m\n\u001b[0;32m----> 1\u001b[0;31m \u001b[0mdf\u001b[0m\u001b[0;34m[\u001b[0m\u001b[0;34m'PARTY'\u001b[0m\u001b[0;34m]\u001b[0m\u001b[0;34m.\u001b[0m\u001b[0mlegal_names\u001b[0m\u001b[0;34m(\u001b[0m\u001b[0;34m)\u001b[0m\u001b[0;34m\u001b[0m\u001b[0;34m\u001b[0m\u001b[0m\n\u001b[0m",
      "\u001b[0;32m~/opt/anaconda3/lib/python3.7/site-packages/pandas/core/generic.py\u001b[0m in \u001b[0;36m__getattr__\u001b[0;34m(self, name)\u001b[0m\n\u001b[1;32m   5177\u001b[0m             \u001b[0;32mif\u001b[0m \u001b[0mself\u001b[0m\u001b[0;34m.\u001b[0m\u001b[0m_info_axis\u001b[0m\u001b[0;34m.\u001b[0m\u001b[0m_can_hold_identifiers_and_holds_name\u001b[0m\u001b[0;34m(\u001b[0m\u001b[0mname\u001b[0m\u001b[0;34m)\u001b[0m\u001b[0;34m:\u001b[0m\u001b[0;34m\u001b[0m\u001b[0;34m\u001b[0m\u001b[0m\n\u001b[1;32m   5178\u001b[0m                 \u001b[0;32mreturn\u001b[0m \u001b[0mself\u001b[0m\u001b[0;34m[\u001b[0m\u001b[0mname\u001b[0m\u001b[0;34m]\u001b[0m\u001b[0;34m\u001b[0m\u001b[0;34m\u001b[0m\u001b[0m\n\u001b[0;32m-> 5179\u001b[0;31m             \u001b[0;32mreturn\u001b[0m \u001b[0mobject\u001b[0m\u001b[0;34m.\u001b[0m\u001b[0m__getattribute__\u001b[0m\u001b[0;34m(\u001b[0m\u001b[0mself\u001b[0m\u001b[0;34m,\u001b[0m \u001b[0mname\u001b[0m\u001b[0;34m)\u001b[0m\u001b[0;34m\u001b[0m\u001b[0;34m\u001b[0m\u001b[0m\n\u001b[0m\u001b[1;32m   5180\u001b[0m \u001b[0;34m\u001b[0m\u001b[0m\n\u001b[1;32m   5181\u001b[0m     \u001b[0;32mdef\u001b[0m \u001b[0m__setattr__\u001b[0m\u001b[0;34m(\u001b[0m\u001b[0mself\u001b[0m\u001b[0;34m,\u001b[0m \u001b[0mname\u001b[0m\u001b[0;34m,\u001b[0m \u001b[0mvalue\u001b[0m\u001b[0;34m)\u001b[0m\u001b[0;34m:\u001b[0m\u001b[0;34m\u001b[0m\u001b[0;34m\u001b[0m\u001b[0m\n",
      "\u001b[0;31mAttributeError\u001b[0m: 'Series' object has no attribute 'legal_names'"
     ]
    }
   ],
   "source": [
    "df['PARTY'].()"
   ]
  },
  {
   "cell_type": "code",
   "execution_count": null,
   "metadata": {},
   "outputs": [],
   "source": [
    "df_legal_names = pd.DataFrame(legal_names)"
   ]
  },
  {
   "cell_type": "code",
   "execution_count": null,
   "metadata": {},
   "outputs": [],
   "source": [
    "df_legal_names"
   ]
  },
  {
   "cell_type": "markdown",
   "metadata": {},
   "source": [
    "Create a Pandas DataFrame that contains the Party code and the corresponding number of registered voters for said party."
   ]
  },
  {
   "cell_type": "code",
   "execution_count": null,
   "metadata": {},
   "outputs": [],
   "source": [
    "# Create DataFrame df_party_counts here "
   ]
  },
  {
   "cell_type": "code",
   "execution_count": null,
   "metadata": {},
   "outputs": [],
   "source": [
    "# df_party_counts "
   ]
  },
  {
   "cell_type": "markdown",
   "metadata": {},
   "source": [
    "Merge the two DataFrames."
   ]
  },
  {
   "cell_type": "code",
   "execution_count": null,
   "metadata": {},
   "outputs": [],
   "source": [
    "# Merge DataFrame here "
   ]
  },
  {
   "cell_type": "code",
   "execution_count": null,
   "metadata": {},
   "outputs": [],
   "source": [
    "# Display new DataFrame here "
   ]
  },
  {
   "cell_type": "markdown",
   "metadata": {},
   "source": [
    "Create a bar graph again but using the legal name for each party as the value on the x axes."
   ]
  },
  {
   "cell_type": "code",
   "execution_count": null,
   "metadata": {},
   "outputs": [],
   "source": [
    "# "
   ]
  }
 ],
 "metadata": {
  "kernelspec": {
   "display_name": "Python 3",
   "language": "python",
   "name": "python3"
  },
  "language_info": {
   "codemirror_mode": {
    "name": "ipython",
    "version": 3
   },
   "file_extension": ".py",
   "mimetype": "text/x-python",
   "name": "python",
   "nbconvert_exporter": "python",
   "pygments_lexer": "ipython3",
   "version": "3.7.4"
  }
 },
 "nbformat": 4,
 "nbformat_minor": 2
}
